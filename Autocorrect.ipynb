{
 "cells": [
  {
   "cell_type": "code",
   "execution_count": 103,
   "id": "676c5757-7263-41e7-b9f1-7161c494b457",
   "metadata": {},
   "outputs": [],
   "source": [
    "import string \n",
    "import re\n",
    "import numpy as np\n",
    "from collections import Counter\n",
    "import pandas as pd"
   ]
  },
  {
   "cell_type": "markdown",
   "id": "cd7cf680-dd03-4d26-9f42-73695cae7788",
   "metadata": {},
   "source": [
    "### Reading all words "
   ]
  },
  {
   "cell_type": "code",
   "execution_count": 106,
   "id": "30facabd-2628-4878-a816-4e8bc38ed39e",
   "metadata": {},
   "outputs": [],
   "source": [
    "def read_corpus(filename):\n",
    "    with open(filename,'r',encoding='utf-8') as file:\n",
    "        lines = file.readlines()\n",
    "\n",
    "        words = []\n",
    "        for word in lines:\n",
    "            words += re.findall(r'\\w+',word.lower())\n",
    "    return words\n",
    "\n",
    "corpus = read_corpus(r'big.txt')\n",
    "        \n",
    "        "
   ]
  },
  {
   "cell_type": "code",
   "execution_count": 107,
   "id": "0f647e59-230c-4cea-96a9-e6097bfd21c6",
   "metadata": {},
   "outputs": [
    {
     "data": {
      "text/plain": [
       "1115585"
      ]
     },
     "execution_count": 107,
     "metadata": {},
     "output_type": "execute_result"
    }
   ],
   "source": [
    "len(corpus)"
   ]
  },
  {
   "cell_type": "markdown",
   "id": "97f276a8-ee97-4f7c-83a8-571fdd2f6daa",
   "metadata": {},
   "source": [
    "### create our vocabulory for unique words"
   ]
  },
  {
   "cell_type": "code",
   "execution_count": 111,
   "id": "39642600-f5b0-49a4-a58d-42e6edd13840",
   "metadata": {},
   "outputs": [
    {
     "data": {
      "text/plain": [
       "32198"
      ]
     },
     "execution_count": 111,
     "metadata": {},
     "output_type": "execute_result"
    }
   ],
   "source": [
    "vocab = set(corpus)\n",
    "len(vocab)"
   ]
  },
  {
   "cell_type": "markdown",
   "id": "198ec713-be96-4100-abae-d9b4ae49e9fb",
   "metadata": {},
   "source": [
    "### To see how many times wors appear in our corpus"
   ]
  },
  {
   "cell_type": "code",
   "execution_count": 114,
   "id": "44bf59cd-c3eb-48f3-b492-3dafc7c48aad",
   "metadata": {},
   "outputs": [
    {
     "data": {
      "text/plain": [
       "8"
      ]
     },
     "execution_count": 114,
     "metadata": {},
     "output_type": "execute_result"
    }
   ],
   "source": [
    "words_count = Counter(corpus)\n",
    "words_count['load']"
   ]
  },
  {
   "cell_type": "markdown",
   "id": "ca3fc21b-b8ab-4f88-9a9a-c05beda623cd",
   "metadata": {},
   "source": [
    "## Calculate Word Probability\n",
    "\n",
    "#### P(word) = count(word)/N"
   ]
  },
  {
   "cell_type": "code",
   "execution_count": 117,
   "id": "1adc826b-516b-4c5a-8cf9-bfc533562d4f",
   "metadata": {},
   "outputs": [],
   "source": [
    "total_count = float(sum(words_count.values()))"
   ]
  },
  {
   "cell_type": "code",
   "execution_count": 119,
   "id": "af4ad01b-a439-4114-986b-d6161e3312d9",
   "metadata": {},
   "outputs": [],
   "source": [
    "word_prob = {word : words_count[word]/total_count for word in words_count.keys()}"
   ]
  },
  {
   "cell_type": "markdown",
   "id": "5545ed23-fa99-4141-816f-f1e745a281e6",
   "metadata": {},
   "source": [
    "### Split operation"
   ]
  },
  {
   "cell_type": "code",
   "execution_count": 122,
   "id": "0ddbbdf4-6a72-4013-8e4a-5e8f85970c8e",
   "metadata": {},
   "outputs": [],
   "source": [
    "def split(word):\n",
    "    return [(word[:i],word[i:])for i in range(len(word) + 1)]"
   ]
  },
  {
   "cell_type": "markdown",
   "id": "2c77b4b6-73c2-4e19-82d7-b99a00d61fb0",
   "metadata": {},
   "source": [
    "### Delete operation"
   ]
  },
  {
   "cell_type": "code",
   "execution_count": 125,
   "id": "e0cf629b-629b-44a5-a527-d5e6108972ad",
   "metadata": {},
   "outputs": [],
   "source": [
    "def delete(word):\n",
    "    return [left + right[1:] for left,right in split(word) if right]"
   ]
  },
  {
   "cell_type": "code",
   "execution_count": 127,
   "id": "56018270-1f8e-4914-8bf1-c9c9ea86b20e",
   "metadata": {},
   "outputs": [
    {
     "data": {
      "text/plain": [
       "['hy', 'wy', 'wh']"
      ]
     },
     "execution_count": 127,
     "metadata": {},
     "output_type": "execute_result"
    }
   ],
   "source": [
    "delete('why')"
   ]
  },
  {
   "cell_type": "markdown",
   "id": "0ab0e283-c309-4af0-b27a-90ea150a0da7",
   "metadata": {},
   "source": [
    "### Swap opearation"
   ]
  },
  {
   "cell_type": "code",
   "execution_count": 130,
   "id": "4a2389b1-9d1d-4b5f-8b65-c964b63e18eb",
   "metadata": {},
   "outputs": [],
   "source": [
    "def swap(word):\n",
    "    return [left + right[1] + right[0] + right[2:] for left,right in split(word) if len(right)>1]"
   ]
  },
  {
   "cell_type": "code",
   "execution_count": 132,
   "id": "3a087425-c897-4cc0-a54d-6a42f2f968aa",
   "metadata": {},
   "outputs": [
    {
     "data": {
      "text/plain": [
       "['hwy', 'wyh']"
      ]
     },
     "execution_count": 132,
     "metadata": {},
     "output_type": "execute_result"
    }
   ],
   "source": [
    "swap('why')"
   ]
  },
  {
   "cell_type": "markdown",
   "id": "817ea965-5bd8-428a-9afa-65afa5bff682",
   "metadata": {},
   "source": [
    "### Replace operation"
   ]
  },
  {
   "cell_type": "code",
   "execution_count": 135,
   "id": "3e30751f-4ef4-4013-9317-6d8760b5cd83",
   "metadata": {},
   "outputs": [],
   "source": [
    "def replace(word):\n",
    "    return [left + center + right[1:]for left,right in split(word) if right for center in string.ascii_lowercase]"
   ]
  },
  {
   "cell_type": "markdown",
   "id": "f967ddd5-9aa0-4a51-b2e6-6305fafa0d8b",
   "metadata": {},
   "source": [
    "### Insert opeartion"
   ]
  },
  {
   "cell_type": "code",
   "execution_count": 141,
   "id": "5355c7cf-2cb3-4de0-9cf4-93cb5f2fd442",
   "metadata": {},
   "outputs": [],
   "source": [
    "def insert(word):\n",
    "    return [left + center + right[1:]for left,right in split(word) for center in string.ascii_lowercase]"
   ]
  },
  {
   "cell_type": "markdown",
   "id": "437cc804-373e-49c7-a215-a9a2af88b7f7",
   "metadata": {},
   "source": [
    "### Find minimum distance"
   ]
  },
  {
   "cell_type": "code",
   "execution_count": 144,
   "id": "7f637af6-8a4e-4c4c-8e78-20b13b721810",
   "metadata": {},
   "outputs": [],
   "source": [
    "def level_one(word):\n",
    "    return set((delete(word) + swap(word) + replace(word) + insert(word)))"
   ]
  },
  {
   "cell_type": "markdown",
   "id": "429e1d65-a57c-404d-a763-93bf4bdb7197",
   "metadata": {},
   "source": [
    "### Get all cands we want"
   ]
  },
  {
   "cell_type": "code",
   "execution_count": 147,
   "id": "82d6b658-bff7-44fd-b46b-9491212649b4",
   "metadata": {},
   "outputs": [],
   "source": [
    "def level_two(word):\n",
    "    return set( e2 for e1 in level_one(word) for e2 in  level_one(e1))"
   ]
  },
  {
   "cell_type": "markdown",
   "id": "3ffe1cf6-f8e2-4ca4-a67a-85e516d4721b",
   "metadata": {},
   "source": [
    "## Autocorrect Search Bar"
   ]
  },
  {
   "cell_type": "code",
   "execution_count": 156,
   "id": "6b83d5f9-d287-4719-b6c6-b6964d5e6ad1",
   "metadata": {},
   "outputs": [],
   "source": [
    "def correct(word,vocab,word_prob):\n",
    "    if word in vocab:\n",
    "        print(f\"{word} is already correctly spelled\")\n",
    "        return \n",
    "    suggestion = level_one(word) or level_two(word) or [word]\n",
    "    best_guass = [w for w in suggestion if w in vocab]\n",
    "    return [(w,word_prob[w]) for w in best_guass]"
   ]
  },
  {
   "cell_type": "code",
   "execution_count": 176,
   "id": "de1e291a-2db2-4926-95f2-298b4bc5e597",
   "metadata": {},
   "outputs": [
    {
     "name": "stdout",
     "output_type": "stream",
     "text": [
      "tyre is already correctly spelled\n",
      "None\n"
     ]
    }
   ],
   "source": [
    "search_word = 'tyre'\n",
    "guass = correct(search_word,vocab,word_prob)\n",
    "print(guass)"
   ]
  },
  {
   "cell_type": "code",
   "execution_count": null,
   "id": "84fd100e-0321-44f8-891d-3031f8386cec",
   "metadata": {},
   "outputs": [],
   "source": []
  }
 ],
 "metadata": {
  "kernelspec": {
   "display_name": "Python 3 (ipykernel)",
   "language": "python",
   "name": "python3"
  },
  "language_info": {
   "codemirror_mode": {
    "name": "ipython",
    "version": 3
   },
   "file_extension": ".py",
   "mimetype": "text/x-python",
   "name": "python",
   "nbconvert_exporter": "python",
   "pygments_lexer": "ipython3",
   "version": "3.11.7"
  }
 },
 "nbformat": 4,
 "nbformat_minor": 5
}
